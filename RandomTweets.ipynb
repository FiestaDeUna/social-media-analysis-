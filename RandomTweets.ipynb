{
 "cells": [
  {
   "cell_type": "code",
   "execution_count": 1,
   "id": "b2b32c46",
   "metadata": {},
   "outputs": [
    {
     "name": "stderr",
     "output_type": "stream",
     "text": [
      "[nltk_data] Downloading package twitter_samples to\n",
      "[nltk_data]     /Users/timmandel/nltk_data...\n",
      "[nltk_data]   Package twitter_samples is already up-to-date!\n"
     ]
    },
    {
     "name": "stdout",
     "output_type": "stream",
     "text": [
      "Random tweets exported to random_tweets.csv.\n"
     ]
    }
   ],
   "source": [
    "import csv\n",
    "import nltk\n",
    "import random\n",
    "\n",
    "# Download the Twitter Samples Corpus if not already downloaded\n",
    "nltk.download(\"twitter_samples\")\n",
    "\n",
    "# Import the Twitter Samples Corpus\n",
    "from nltk.corpus import twitter_samples\n",
    "\n",
    "# Function to get 100 random tweets from the Twitter Samples Corpus\n",
    "def get_random_tweets():\n",
    "    # Get all tweets from the corpus\n",
    "    all_tweets = twitter_samples.strings()\n",
    "    # Shuffle the tweets\n",
    "    random.shuffle(all_tweets)\n",
    "    # Return a random subset of 100 tweets\n",
    "    return all_tweets[:100]\n",
    "\n",
    "# Get 100 random tweets\n",
    "random_tweets = get_random_tweets()\n",
    "\n",
    "# Define the CSV file path\n",
    "csv_file = \"random_tweets.csv\"\n",
    "\n",
    "# Write random tweets to CSV file\n",
    "with open(csv_file, mode='w', newline='', encoding='utf-8') as file:\n",
    "    writer = csv.writer(file)\n",
    "    writer.writerow([\"Tweet\"])\n",
    "    for tweet in random_tweets:\n",
    "        writer.writerow([tweet])\n",
    "\n",
    "print(f\"Random tweets exported to {csv_file}.\")\n"
   ]
  },
  {
   "cell_type": "code",
   "execution_count": null,
   "id": "cf1c97d2",
   "metadata": {},
   "outputs": [],
   "source": []
  }
 ],
 "metadata": {
  "kernelspec": {
   "display_name": "Python 3 (ipykernel)",
   "language": "python",
   "name": "python3"
  },
  "language_info": {
   "codemirror_mode": {
    "name": "ipython",
    "version": 3
   },
   "file_extension": ".py",
   "mimetype": "text/x-python",
   "name": "python",
   "nbconvert_exporter": "python",
   "pygments_lexer": "ipython3",
   "version": "3.10.13"
  }
 },
 "nbformat": 4,
 "nbformat_minor": 5
}
